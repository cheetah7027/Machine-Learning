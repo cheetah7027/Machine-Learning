{
  "nbformat": 4,
  "nbformat_minor": 0,
  "metadata": {
    "colab": {
      "provenance": [],
      "authorship_tag": "ABX9TyMAs6XE5krHl7AZ2OMpBxrJ",
      "include_colab_link": true
    },
    "kernelspec": {
      "name": "python3",
      "display_name": "Python 3"
    },
    "language_info": {
      "name": "python"
    }
  },
  "cells": [
    {
      "cell_type": "markdown",
      "metadata": {
        "id": "view-in-github",
        "colab_type": "text"
      },
      "source": [
        "<a href=\"https://colab.research.google.com/github/cheetah7027/Machine-Learning/blob/main/LASSO_Regression_from_scratch_in_Python.ipynb\" target=\"_parent\"><img src=\"https://colab.research.google.com/assets/colab-badge.svg\" alt=\"Open In Colab\"/></a>"
      ]
    },
    {
      "cell_type": "code",
      "execution_count": null,
      "metadata": {
        "id": "22c0LAxXAafT"
      },
      "outputs": [],
      "source": []
    },
    {
      "cell_type": "markdown",
      "source": [
        "**Lasso Regression:**\n",
        "\n",
        "**y=wx+b**\n",
        "\n",
        "y--> Dependent Variable\n",
        "\n",
        "x--> Independent Variable\n",
        "\n",
        "w--> Weight\n",
        "\n",
        "b--> Bias\n",
        "\n",
        "**Gradient Descent:**\n",
        "\n",
        "It is an optimization technique used for minimising the loss function in various Machine Algorithm.It is used for updating the parameter of the learning model.\n",
        "\n",
        "**Learning Rate:**\n",
        "\n",
        "It is tuning parameter in an optimization algorithm that determines the step size of the each iteration while moving toward a minimum of the loss function\n",
        "\n"
      ],
      "metadata": {
        "id": "UhweStcIAr_n"
      }
    },
    {
      "cell_type": "code",
      "source": [
        "#Importing dependencies\n",
        "import numpy as np"
      ],
      "metadata": {
        "id": "nK2CsP3mDHTV"
      },
      "execution_count": null,
      "outputs": []
    },
    {
      "cell_type": "code",
      "source": [
        "#creating the class for the lasso\n",
        "class Lasso_Regression():\n",
        "  #iniating the hyper parameter\n",
        "  def __init__(self,learning_rate,no_of_iterations,lambda_parameter):\n",
        "    self.learning_rate=learning_rate\n",
        "    self.no_of_iterations=no_of_iterations\n",
        "    self.lambda_parameter=lambda_parameter\n",
        "\n",
        "  #fitting function\n",
        "  def fit(self,X,Y):\n",
        "    #m no of data points(no of rows)\n",
        "    #n no of input features(no of columns)\n",
        "    self.m,self.n=X.shape\n",
        "    #initiating the weight and bias value\n",
        "    self.w=np.zeros(self.n)\n",
        "    self.b=0\n",
        "    self.X=X\n",
        "    self.Y=Y\n",
        "    #Implementing gradient descent algorithm for optimization\n",
        "    for i in range(self.no_of_iterations):\n",
        "      self.update_weights\n",
        "\n",
        "\n",
        "\n",
        "\n",
        "  #updating weights  and bias\n",
        "  def update_weights(self):\n",
        "    #linear_equation\n",
        "    Y_prediction=self.predict(self.X)\n",
        "    #gradients\n",
        "    dw=np.zeros(self.n)\n",
        "    db=0\n",
        "    for i in range(self.n):\n",
        "      if self.w[i]>0:\n",
        "        dw[i]=(-2*(self.X[:,i].dot(self.Y-Y_prediction))+self.lambda_parameter)/self.m\n",
        "      else:\n",
        "        dw[i]=(-2*(self.X[:,i].dot(self.Y-Y_prediction))-self.lambda_parameter)/self.m\n",
        "    db=(-2*np.sum(self.Y-Y_prediction))/self.m\n",
        "    #updating the weights\n",
        "    self.w=self.w-self.learning_rate*dw\n",
        "    self.b=self.b-self.learning_rate*db\n",
        "\n",
        "  #predict the target variable\n",
        "  def predict(self,X):\n",
        "    return X.dot(self.w)+self.b\n"
      ],
      "metadata": {
        "id": "XKQqzW2HDMOv"
      },
      "execution_count": null,
      "outputs": []
    }
  ]
}